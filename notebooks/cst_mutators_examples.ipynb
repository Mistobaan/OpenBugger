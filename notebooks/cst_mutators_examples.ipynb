{
  "cells": [
    {
      "cell_type": "code",
      "execution_count": 3,
      "metadata": {
        "colab": {
          "base_uri": "https://localhost:8080/"
        },
        "id": "8QHRLi73nuNd",
        "outputId": "21ebb8e8-3bfb-4072-d5e5-b1b93446040b"
      },
      "outputs": [],
      "source": [
        "try:\n",
        "    import libcst\n",
        "except ImportError:\n",
        "    !pip install libcst"
      ]
    },
    {
      "cell_type": "code",
      "execution_count": 4,
      "metadata": {
        "id": "NREXbcvgnskY"
      },
      "outputs": [],
      "source": [
        "from libcst import parse_module, Module, Expr, Pass, Comment, CSTTransformer, Comparison, CSTNode, ComparisonTarget\n",
        "from libcst import matchers\n",
        "from typing import List, Dict, Union, Tuple, Type\n",
        "import re\n",
        "from libcst import Equal, GreaterThanEqual\n",
        "from libcst import matchers as m"
      ]
    },
    {
      "cell_type": "markdown",
      "metadata": {
        "id": "O0BlZYO5zg08"
      },
      "source": [
        "## REFERENCES\n",
        "\n",
        "- [Nodes](https://libcst.readthedocs.io/en/latest/nodes.html#libcst-nodes)"
      ]
    },
    {
      "cell_type": "code",
      "execution_count": 29,
      "metadata": {
        "id": "u3SCFXCbytvU"
      },
      "outputs": [],
      "source": [
        "# Use difflib to show the changes to verify type annotations were added as expected.\n",
        "import difflib\n",
        "\n",
        "def printdiff(vanilla, tainted):\n",
        "    print(\n",
        "        \"\".join(\n",
        "            difflib.unified_diff(vanilla.splitlines(1), tainted.splitlines(1))\n",
        "        )\n",
        "    )"
      ]
    },
    {
      "cell_type": "code",
      "execution_count": 21,
      "metadata": {
        "id": "Fzx7ReM62sse"
      },
      "outputs": [],
      "source": [
        "import libcst as cst\n",
        "\n",
        "\n",
        "def gen_transfomers(op1, op2):\n",
        "    class IsOperatorProvider(cst.BatchableMetadataProvider[Dict]):\n",
        "    \n",
        "        @m.call_if_inside(m.BinaryOperation(operator=[getattr(m, op1.__name__)()]))\n",
        "        def visit_Comparison(self, node: cst.Param) -> None:\n",
        "            # Mark the node as an equal comparison node\n",
        "            self.set_metadata(node, dict(comparison=node.comparisons[0], \n",
        "                                    original=node.comparisons[0].operator.__class__))\n",
        "    \n",
        "    class ApplyTransformer(cst.CSTTransformer):\n",
        "        METADATA_DEPENDENCIES = (IsOperatorProvider, )\n",
        "    \n",
        "        def leave_Comparison(self, vanilla:cst.Name, tainted: cst.Name) -> None:\n",
        "            meta = self.get_metadata(IsOperatorProvider, vanilla)\n",
        "            if meta:\n",
        "                updated_comparison = meta['comparison'].with_changes(operator=op2()) # OP2\n",
        "                tainted = vanilla.with_changes(comparisons=[updated_comparison])\n",
        "            return tainted\n",
        "\n",
        "        def __repr__(self):\n",
        "            return super().__repr__(self) + ':' + op1.__name__ +':' + op2.__name__\n",
        "    \n",
        "    class ReverseTransformer(cst.CSTTransformer):\n",
        "        METADATA_DEPENDENCIES = (IsOperatorProvider, )\n",
        "\n",
        "        def leave_Comparison(self, tainted:cst.Name, vanilla: cst.Name) -> None:\n",
        "            meta = self.get_metadata(IsOperatorProvider, tainted)\n",
        "            if meta:\n",
        "                updated_comparison = meta['comparison'].with_changes(operator=meta['original']())\n",
        "                vanilla = tainted.with_changes(comparisons=[updated_comparison])\n",
        "            return vanilla\n",
        "        \n",
        "        def __repr__(self):\n",
        "            return super().__repr__(self) + ':' + op1.__name__ +':' + op2.__name__\n",
        "\n",
        "    return ApplyTransformer, ReverseTransformer    "
      ]
    },
    {
      "cell_type": "code",
      "execution_count": 22,
      "metadata": {},
      "outputs": [
        {
          "data": {
            "text/plain": [
              "<itertools.chain at 0x7f7fd0969bb0>"
            ]
          },
          "execution_count": 22,
          "metadata": {},
          "output_type": "execute_result"
        }
      ],
      "source": [
        "import itertools\n",
        "itertools.chain([1,2,3], [4,5,6])"
      ]
    },
    {
      "cell_type": "code",
      "execution_count": 23,
      "metadata": {},
      "outputs": [],
      "source": [
        "import collections\n",
        "\n",
        "Transform = collections.namedtuple('Transform', ['apply', 'reverse'])\n",
        "transforms = collections.defaultdict(dict)\n",
        "\n",
        "def composite_factory(mutators: List[Transform]):\n",
        "    apply_transforms = [m[0] for m in mutators]\n",
        "    reverse_transforms = [m[1] for m in mutators]\n",
        "\n",
        "    METADATA_PROVIDERS = list(itertools.chain(*itertools.chain(t.METADATA_DEPENDENCIES for t in apply_transforms)))\n",
        "    \n",
        "    class CompositeTaintOperatorProvider(cst.BatchableMetadataProvider[Dict]):\n",
        "    \n",
        "        def visit_Comparison(self, node: cst.Param) -> None:\n",
        "            for p in METADATA_PROVIDERS:\n",
        "                if not p.MATCHER(node): continue\n",
        "\n",
        "                meta = self.get_metadata(node)\n",
        "                if meta is None:\n",
        "                    p.visit_Comparison(node) # apply the matcher\n",
        "                    # Mark the node as an equal comparison node\n",
        "                    self.set_metadata(node, {'tainted': True})\n",
        "                elif meta.get('tainted') is None:\n",
        "                    p.visit_Comparison(node)\n",
        "                else:\n",
        "                    pass # tainted already\n",
        "                \n",
        "    class ApplyCompositeTransformer(cst.CSTTransformer):\n",
        "        METADATA_DEPENDENCIES = (CompositeTaintOperatorProvider,)\n",
        "\n",
        "        def leave_Comparison(self, vanilla:cst.Name, tainted: cst.Name) -> None:\n",
        "            for apply in apply_transforms:\n",
        "                vanilla = tainted = apply().leave_Comparison(vanilla, tainted) \n",
        "                \n",
        "            return tainted\n",
        "\n",
        "    class ReverseCompositeTransformer(cst.CSTTransformer):\n",
        "        METADATA_DEPENDENCIES = (CompositeTaintOperatorProvider,)\n",
        "\n",
        "        def leave_Comparison(self, vanilla:cst.Name, tainted: cst.Name) -> None:\n",
        "            for reverse in reverse_transforms:\n",
        "                vanilla = tainted = reverse().leave_Comparison(vanilla, tainted) \n",
        "                \n",
        "            return tainted\n",
        "\n",
        "    return ApplyCompositeTransformer, ReverseCompositeTransformer"
      ]
    },
    {
      "cell_type": "code",
      "execution_count": 24,
      "metadata": {
        "id": "hJhE4fuuKzea"
      },
      "outputs": [],
      "source": [
        "from libcst import (Equal, GreaterThanEqual, LessThan, GreaterThan, \n",
        "                    LessThanEqual, NotEqual, NotIn, In, Is, IsNot, Not, And, Or, Match)\n",
        "import collections\n",
        "\n",
        "str2op = dict([\n",
        "    ('==', Equal),\n",
        "    ('>=', GreaterThanEqual),\n",
        "    ('>', GreaterThan),\n",
        "    ('<', LessThan),\n",
        "    ('=<', LessThanEqual),\n",
        "    ('!=', NotEqual),\n",
        "    ('not in', NotIn),\n",
        "    ('in', In),\n",
        "    ('is', Is),\n",
        "    ('is not', IsNot),\n",
        "    ('not', Not),\n",
        "    ('and', And),\n",
        "    ('or', Or),\n",
        "    ('or', Or),\n",
        "    # ('match', Match),\n",
        "])\n",
        "\n",
        "op2str = {v:k for k,v in str2op.items()}\n",
        "\n",
        "\n",
        "for op1 in [ Equal , GreaterThanEqual, LessThan, GreaterThan, LessThanEqual, NotEqual, NotIn, In, Is, IsNot, Not, And, Or,]:\n",
        "    for op2 in [ Equal, GreaterThanEqual, LessThan, GreaterThan, LessThanEqual, NotEqual, NotIn, In, Is, IsNot, Not, And, Or,]:\n",
        "        if op1 is op2: continue\n",
        "        apply, reverse = gen_transfomers(op1, op2)\n",
        "        transforms[op2str[op1]][op2str[op2]] = Transform(apply, reverse)\n"
      ]
    },
    {
      "cell_type": "code",
      "execution_count": 25,
      "metadata": {
        "colab": {
          "base_uri": "https://localhost:8080/"
        },
        "id": "vt2KGKcWK0Vt",
        "outputId": "0c6f1ea5-be20-4835-f3a0-970f11fddbcf"
      },
      "outputs": [
        {
          "data": {
            "text/plain": [
              "13"
            ]
          },
          "execution_count": 25,
          "metadata": {},
          "output_type": "execute_result"
        }
      ],
      "source": [
        "len(transforms)"
      ]
    },
    {
      "cell_type": "code",
      "execution_count": 26,
      "metadata": {
        "colab": {
          "base_uri": "https://localhost:8080/"
        },
        "id": "vEWHnLiOK2UI",
        "outputId": "68cd4e02-8a45-4310-d54e-c2cca2a7657e"
      },
      "outputs": [
        {
          "data": {
            "text/plain": [
              "{}"
            ]
          },
          "execution_count": 26,
          "metadata": {},
          "output_type": "execute_result"
        }
      ],
      "source": [
        "import random\n",
        "random.choice(transforms)"
      ]
    },
    {
      "cell_type": "code",
      "execution_count": 31,
      "metadata": {
        "colab": {
          "base_uri": "https://localhost:8080/",
          "height": 569
        },
        "id": "bL3SeHiN35TL",
        "outputId": "19636bf9-7b67-43a3-937c-5810687623c0"
      },
      "outputs": [
        {
          "name": "stdout",
          "output_type": "stream",
          "text": [
            "x >= z and x >= y -> x >= z and x == y\n",
            "--- \n",
            "+++ \n",
            "@@ -1 +1 @@\n",
            "-x >= z and x >= y+x >= z and x == y\n"
          ]
        }
      ],
      "source": [
        "sequence_of_transforms_to_apply = (\n",
        "    \"x >= z and x == y\" ,\n",
        "    [\n",
        "        transforms['==']['>='],\n",
        "     #transforms['and']['or']\n",
        "    ],\n",
        "    \"x >= z or x >= y\" ,\n",
        ")\n",
        "\n",
        "# pre_wrapper = cst.MetadataWrapper(module)\n",
        "# change_equal_to_op1, _ = gen_transfomers(Equal, op1)\n",
        "# new_code = pre_wrapper.visit(change_equal_to_op1)\n",
        "# print(new_code.code)\n",
        "# print(op1.__name__, '--->', op2.__name__)\n",
        "# print('  :', code, )\n",
        "# print('->:',bugged.code, )\n",
        "# vanilla = wrapper.visit(reverse())\n",
        "# print('<-:', vanilla.code)\n",
        "# print( '---')\n",
        "\n",
        "code, TLIST, result =  sequence_of_transforms_to_apply\n",
        "\n",
        "module = cst.parse_module(code)\n",
        "wrapper = cst.MetadataWrapper(module)\n",
        "apply, reverse = transforms['==']['>=']\n",
        "#apply, reverse = composite_factory(TLIST)\n",
        "bugged = wrapper.visit(apply())\n",
        "debugged = wrapper.visit(reverse())\n",
        "print(bugged.code, '->', debugged.code)\n",
        "printdiff(bugged.code, debugged.code)"
      ]
    },
    {
      "cell_type": "code",
      "execution_count": null,
      "metadata": {
        "colab": {
          "base_uri": "https://localhost:8080/",
          "height": 222
        },
        "id": "yuM5IE6uxafZ",
        "outputId": "2b45b03c-822d-43ca-e3c9-6e65bfaea9a5"
      },
      "outputs": [],
      "source": [
        "# printdiff(cst.parse_expression(\"1 == 2\").code, cst.parse_express('1 >= 2').code)"
      ]
    }
  ],
  "metadata": {
    "colab": {
      "provenance": []
    },
    "kernelspec": {
      "display_name": "openbugger",
      "language": "python",
      "name": "python3"
    },
    "language_info": {
      "codemirror_mode": {
        "name": "ipython",
        "version": 3
      },
      "file_extension": ".py",
      "mimetype": "text/x-python",
      "name": "python",
      "nbconvert_exporter": "python",
      "pygments_lexer": "ipython3",
      "version": "3.8.15"
    },
    "orig_nbformat": 4,
    "vscode": {
      "interpreter": {
        "hash": "ec4f840bde30d3dd3137c5d01abb30d30f6877a29b68cec62ee1a772f27de118"
      }
    }
  },
  "nbformat": 4,
  "nbformat_minor": 0
}
