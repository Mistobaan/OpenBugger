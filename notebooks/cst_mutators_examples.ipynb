{
  "cells": [
    {
      "cell_type": "code",
      "execution_count": 89,
      "metadata": {
        "colab": {
          "base_uri": "https://localhost:8080/"
        },
        "id": "8QHRLi73nuNd",
        "outputId": "21ebb8e8-3bfb-4072-d5e5-b1b93446040b"
      },
      "outputs": [
        {
          "name": "stdout",
          "output_type": "stream",
          "text": [
            "Requirement already satisfied: libcst in /usr/local/Caskroom/miniconda/base/envs/openbugger/lib/python3.8/site-packages (0.4.9)\n",
            "Requirement already satisfied: typing-inspect>=0.4.0 in /usr/local/Caskroom/miniconda/base/envs/openbugger/lib/python3.8/site-packages (from libcst) (0.8.0)\n",
            "Requirement already satisfied: pyyaml>=5.2 in /usr/local/Caskroom/miniconda/base/envs/openbugger/lib/python3.8/site-packages (from libcst) (6.0)\n",
            "Requirement already satisfied: typing-extensions>=3.7.4.2 in /usr/local/Caskroom/miniconda/base/envs/openbugger/lib/python3.8/site-packages (from libcst) (4.4.0)\n",
            "Requirement already satisfied: mypy-extensions>=0.3.0 in /usr/local/Caskroom/miniconda/base/envs/openbugger/lib/python3.8/site-packages (from typing-inspect>=0.4.0->libcst) (0.4.3)\n"
          ]
        }
      ],
      "source": [
        "!pip install libcst"
      ]
    },
    {
      "cell_type": "code",
      "execution_count": 90,
      "metadata": {
        "id": "NREXbcvgnskY"
      },
      "outputs": [],
      "source": [
        "from libcst import parse_module, Module, Expr, Pass, Comment, CSTTransformer, Comparison, CSTNode, ComparisonTarget\n",
        "from libcst import matchers\n",
        "from typing import List, Dict, Union, Tuple, Type\n",
        "import re\n",
        "from libcst import Equal, GreaterThanEqual\n",
        "from libcst import matchers as m"
      ]
    },
    {
      "cell_type": "markdown",
      "metadata": {
        "id": "O0BlZYO5zg08"
      },
      "source": [
        "## REFERENCES\n",
        "\n",
        "- [Nodes](https://libcst.readthedocs.io/en/latest/nodes.html#libcst-nodes)"
      ]
    },
    {
      "cell_type": "code",
      "execution_count": 91,
      "metadata": {
        "id": "u3SCFXCbytvU"
      },
      "outputs": [],
      "source": [
        "# Use difflib to show the changes to verify type annotations were added as expected.\n",
        "import difflib\n",
        "\n",
        "def printdiff(vanilla, tainted):\n",
        "    return (\n",
        "        \"\".join(\n",
        "            difflib.unified_diff(vanilla.splitlines(1), tainted.splitlines(1))\n",
        "        )\n",
        "    )"
      ]
    },
    {
      "cell_type": "code",
      "execution_count": 92,
      "metadata": {
        "id": "Fzx7ReM62sse"
      },
      "outputs": [],
      "source": [
        "import libcst as cst\n",
        "\n",
        "\n",
        "def gen_transfomers(op1, op2):\n",
        "    class IsOperatorProvider(cst.BatchableMetadataProvider[Dict]):\n",
        "    \n",
        "        @m.call_if_inside(m.BinaryOperation(operator=[getattr(m, op1.__name__)()]))\n",
        "        def visit_Comparison(self, node: cst.Param) -> None:\n",
        "            # Mark the node as an equal comparison node\n",
        "            self.set_metadata(node, dict(comparison=node.comparisons[0], \n",
        "                                    original=node.comparisons[0].operator.__class__))\n",
        "    \n",
        "    class ApplyTransformer(cst.CSTTransformer):\n",
        "        METADATA_DEPENDENCIES = (IsOperatorProvider, )\n",
        "    \n",
        "        def leave_Comparison(self, vanilla:cst.Name, tainted: cst.Name) -> None:\n",
        "            meta = self.get_metadata(IsOperatorProvider, vanilla)\n",
        "            if meta:\n",
        "                updated_comparison = meta['comparison'].with_changes(operator=op2()) # OP2\n",
        "                tainted = vanilla.with_changes(comparisons=[updated_comparison])\n",
        "            return tainted\n",
        "        def __repr__(self):\n",
        "            return super().__repr__ + ':' + op1.__name__ +':' + op2.__name__\n",
        "    \n",
        "    class ReverseTransformer(cst.CSTTransformer):\n",
        "        METADATA_DEPENDENCIES = (IsOperatorProvider, )\n",
        "\n",
        "        def leave_Comparison(self, tainted:cst.Name, vanilla: cst.Name) -> None:\n",
        "            meta = self.get_metadata(IsOperatorProvider, tainted)\n",
        "            if meta:\n",
        "                updated_comparison = meta['comparison'].with_changes(operator=meta['original']())\n",
        "                vanilla = tainted.with_changes(comparisons=[updated_comparison])\n",
        "            return vanilla\n",
        "\n",
        "    ReverseTransformer.__class__.__str__ = lambda self: ReverseTransformer.__str__ + ':' + op1.__name__ +':' + op2.__name__\n",
        "\n",
        "    return ApplyTransformer, ReverseTransformer    "
      ]
    },
    {
      "cell_type": "code",
      "execution_count": 93,
      "metadata": {},
      "outputs": [
        {
          "data": {
            "text/plain": [
              "<itertools.chain at 0x7fbf186cab20>"
            ]
          },
          "execution_count": 93,
          "metadata": {},
          "output_type": "execute_result"
        }
      ],
      "source": [
        "import itertools\n",
        "itertools.chain([1,2,3], [4,5,6])"
      ]
    },
    {
      "cell_type": "code",
      "execution_count": 94,
      "metadata": {},
      "outputs": [],
      "source": [
        "def composite_factory(mutators: List[Transform]):\n",
        "    class ApplyCompositeTransformer(cst.CSTTransformer):\n",
        "        METADATA_DEPENDENCIES = itertools.chain(m[0].METADATA_DEPENDENCIES for m in mutators)\n",
        "        \n",
        "        def __init__(self):\n",
        "            super().__init__()\n",
        "            self._mutators = mutators\n",
        "\n",
        "        def leave_Comparison(self, vanilla:cst.Name, tainted: cst.Name) -> None:\n",
        "            for apply, _ in self._mutators:\n",
        "                vanilla = tainted = apply().leave_Comparison(vanilla, tainted) \n",
        "                \n",
        "            return tainted\n",
        "\n",
        "    return ApplyCompositeTransformer"
      ]
    },
    {
      "cell_type": "code",
      "execution_count": 95,
      "metadata": {
        "id": "hJhE4fuuKzea"
      },
      "outputs": [],
      "source": [
        "from libcst import (Equal, GreaterThanEqual, LessThan, GreaterThan, \n",
        "                    LessThanEqual, NotEqual, NotIn, In, Is, IsNot, Not, And, Or, Match)\n",
        "import collections\n",
        "\n",
        "str2op = dict([\n",
        "    ('==', Equal),\n",
        "    ('>=', GreaterThanEqual),\n",
        "    ('>', GreaterThan),\n",
        "    ('<', LessThan),\n",
        "    ('=<', LessThanEqual),\n",
        "    ('!=', NotEqual),\n",
        "    ('not in', NotIn),\n",
        "    ('in', In),\n",
        "    ('is', Is),\n",
        "    ('is not', IsNot),\n",
        "    ('not', Not),\n",
        "    ('and', And),\n",
        "    ('or', Or),\n",
        "    ('or', Or),\n",
        "    # ('match', Match),\n",
        "])\n",
        "\n",
        "op2str = {v:k for k,v in str2op.items()}\n",
        "\n",
        "Transform = collections.namedtuple('Transform', ['apply', 'reverse'])\n",
        "transforms = collections.defaultdict(dict)\n",
        "\n",
        "for op1 in [ Equal , GreaterThanEqual, LessThan, GreaterThan, LessThanEqual, NotEqual, NotIn, In, Is, IsNot, Not, And, Or,]:\n",
        "    for op2 in [ Equal, GreaterThanEqual, LessThan, GreaterThan, LessThanEqual, NotEqual, NotIn, In, Is, IsNot, Not, And, Or,]:\n",
        "        if op1 is op2: continue\n",
        "        apply, reverse = gen_transfomers(op1, op2)\n",
        "        transforms[op2str[op1]][op2str[op2]] = Transform(apply, reverse)\n"
      ]
    },
    {
      "cell_type": "code",
      "execution_count": 96,
      "metadata": {
        "colab": {
          "base_uri": "https://localhost:8080/"
        },
        "id": "vt2KGKcWK0Vt",
        "outputId": "0c6f1ea5-be20-4835-f3a0-970f11fddbcf"
      },
      "outputs": [
        {
          "data": {
            "text/plain": [
              "13"
            ]
          },
          "execution_count": 96,
          "metadata": {},
          "output_type": "execute_result"
        }
      ],
      "source": [
        "len(transforms)"
      ]
    },
    {
      "cell_type": "code",
      "execution_count": 97,
      "metadata": {
        "colab": {
          "base_uri": "https://localhost:8080/"
        },
        "id": "vEWHnLiOK2UI",
        "outputId": "68cd4e02-8a45-4310-d54e-c2cca2a7657e"
      },
      "outputs": [
        {
          "data": {
            "text/plain": [
              "{}"
            ]
          },
          "execution_count": 97,
          "metadata": {},
          "output_type": "execute_result"
        }
      ],
      "source": [
        "import random\n",
        "random.choice(transforms)"
      ]
    },
    {
      "cell_type": "code",
      "execution_count": 100,
      "metadata": {
        "colab": {
          "base_uri": "https://localhost:8080/",
          "height": 569
        },
        "id": "bL3SeHiN35TL",
        "outputId": "19636bf9-7b67-43a3-937c-5810687623c0"
      },
      "outputs": [
        {
          "name": "stdout",
          "output_type": "stream",
          "text": [
            "((<class '__main__.gen_transfomers.<locals>.IsOperatorProvider'>,), (<class '__main__.gen_transfomers.<locals>.IsOperatorProvider'>,))\n"
          ]
        },
        {
          "ename": "AttributeError",
          "evalue": "'tuple' object has no attribute 'METADATA_DEPENDENCIES'",
          "output_type": "error",
          "traceback": [
            "\u001b[0;31m---------------------------------------------------------------------------\u001b[0m",
            "\u001b[0;31mAttributeError\u001b[0m                            Traceback (most recent call last)",
            "Cell \u001b[0;32mIn[100], line 24\u001b[0m\n\u001b[1;32m     22\u001b[0m wrapper \u001b[39m=\u001b[39m cst\u001b[39m.\u001b[39mMetadataWrapper(module)\n\u001b[1;32m     23\u001b[0m apply \u001b[39m=\u001b[39m composite_factory(TLIST)\n\u001b[0;32m---> 24\u001b[0m bugged \u001b[39m=\u001b[39m wrapper\u001b[39m.\u001b[39;49mvisit(apply())\n\u001b[1;32m     25\u001b[0m apply\n",
            "File \u001b[0;32m/usr/local/Caskroom/miniconda/base/envs/openbugger/lib/python3.8/site-packages/libcst/metadata/wrapper.py:203\u001b[0m, in \u001b[0;36mMetadataWrapper.visit\u001b[0;34m(self, visitor)\u001b[0m\n\u001b[1;32m    198\u001b[0m \u001b[39mdef\u001b[39;00m \u001b[39mvisit\u001b[39m(\u001b[39mself\u001b[39m, visitor: \u001b[39m\"\u001b[39m\u001b[39mCSTVisitorT\u001b[39m\u001b[39m\"\u001b[39m) \u001b[39m-\u001b[39m\u001b[39m>\u001b[39m \u001b[39m\"\u001b[39m\u001b[39mModule\u001b[39m\u001b[39m\"\u001b[39m:\n\u001b[1;32m    199\u001b[0m \u001b[39m    \u001b[39m\u001b[39m\"\"\"\u001b[39;00m\n\u001b[1;32m    200\u001b[0m \u001b[39m    Convenience method to resolve metadata before performing a traversal over\u001b[39;00m\n\u001b[1;32m    201\u001b[0m \u001b[39m    ``self.module`` with ``visitor``. See :func:`~libcst.Module.visit`.\u001b[39;00m\n\u001b[1;32m    202\u001b[0m \u001b[39m    \"\"\"\u001b[39;00m\n\u001b[0;32m--> 203\u001b[0m     \u001b[39mwith\u001b[39;00m visitor\u001b[39m.\u001b[39mresolve(\u001b[39mself\u001b[39m):\n\u001b[1;32m    204\u001b[0m         \u001b[39mreturn\u001b[39;00m \u001b[39mself\u001b[39m\u001b[39m.\u001b[39mmodule\u001b[39m.\u001b[39mvisit(visitor)\n",
            "File \u001b[0;32m/usr/local/Caskroom/miniconda/base/envs/openbugger/lib/python3.8/contextlib.py:113\u001b[0m, in \u001b[0;36m_GeneratorContextManager.__enter__\u001b[0;34m(self)\u001b[0m\n\u001b[1;32m    111\u001b[0m \u001b[39mdel\u001b[39;00m \u001b[39mself\u001b[39m\u001b[39m.\u001b[39margs, \u001b[39mself\u001b[39m\u001b[39m.\u001b[39mkwds, \u001b[39mself\u001b[39m\u001b[39m.\u001b[39mfunc\n\u001b[1;32m    112\u001b[0m \u001b[39mtry\u001b[39;00m:\n\u001b[0;32m--> 113\u001b[0m     \u001b[39mreturn\u001b[39;00m \u001b[39mnext\u001b[39;49m(\u001b[39mself\u001b[39;49m\u001b[39m.\u001b[39;49mgen)\n\u001b[1;32m    114\u001b[0m \u001b[39mexcept\u001b[39;00m \u001b[39mStopIteration\u001b[39;00m:\n\u001b[1;32m    115\u001b[0m     \u001b[39mraise\u001b[39;00m \u001b[39mRuntimeError\u001b[39;00m(\u001b[39m\"\u001b[39m\u001b[39mgenerator didn\u001b[39m\u001b[39m'\u001b[39m\u001b[39mt yield\u001b[39m\u001b[39m\"\u001b[39m) \u001b[39mfrom\u001b[39;00m \u001b[39mNone\u001b[39m\n",
            "File \u001b[0;32m/usr/local/Caskroom/miniconda/base/envs/openbugger/lib/python3.8/site-packages/libcst/_metadata_dependent.py:108\u001b[0m, in \u001b[0;36mMetadataDependent.resolve\u001b[0;34m(self, wrapper)\u001b[0m\n\u001b[1;32m     97\u001b[0m \u001b[39m@contextmanager\u001b[39m\n\u001b[1;32m     98\u001b[0m \u001b[39mdef\u001b[39;00m \u001b[39mresolve\u001b[39m(\u001b[39mself\u001b[39m, wrapper: \u001b[39m\"\u001b[39m\u001b[39mMetadataWrapper\u001b[39m\u001b[39m\"\u001b[39m) \u001b[39m-\u001b[39m\u001b[39m>\u001b[39m Iterator[\u001b[39mNone\u001b[39;00m]:\n\u001b[1;32m     99\u001b[0m \u001b[39m    \u001b[39m\u001b[39m\"\"\"\u001b[39;00m\n\u001b[1;32m    100\u001b[0m \u001b[39m    Context manager that resolves all metadata dependencies declared by\u001b[39;00m\n\u001b[1;32m    101\u001b[0m \u001b[39m    ``self`` (using :func:`~libcst.MetadataDependent.get_inherited_dependencies`)\u001b[39;00m\n\u001b[0;32m   (...)\u001b[0m\n\u001b[1;32m    106\u001b[0m \u001b[39m    cleared.\u001b[39;00m\n\u001b[1;32m    107\u001b[0m \u001b[39m    \"\"\"\u001b[39;00m\n\u001b[0;32m--> 108\u001b[0m     \u001b[39mself\u001b[39m\u001b[39m.\u001b[39mmetadata \u001b[39m=\u001b[39m wrapper\u001b[39m.\u001b[39;49mresolve_many(\u001b[39mself\u001b[39;49m\u001b[39m.\u001b[39;49mget_inherited_dependencies())\n\u001b[1;32m    109\u001b[0m     \u001b[39myield\u001b[39;00m\n\u001b[1;32m    110\u001b[0m     \u001b[39mself\u001b[39m\u001b[39m.\u001b[39mmetadata \u001b[39m=\u001b[39m {}\n",
            "File \u001b[0;32m/usr/local/Caskroom/miniconda/base/envs/openbugger/lib/python3.8/site-packages/libcst/metadata/wrapper.py:193\u001b[0m, in \u001b[0;36mMetadataWrapper.resolve_many\u001b[0;34m(self, providers)\u001b[0m\n\u001b[1;32m    183\u001b[0m \u001b[39mdef\u001b[39;00m \u001b[39mresolve_many\u001b[39m(\n\u001b[1;32m    184\u001b[0m     \u001b[39mself\u001b[39m, providers: Collection[\u001b[39m\"\u001b[39m\u001b[39mProviderT\u001b[39m\u001b[39m\"\u001b[39m]\n\u001b[1;32m    185\u001b[0m ) \u001b[39m-\u001b[39m\u001b[39m>\u001b[39m Mapping[\u001b[39m\"\u001b[39m\u001b[39mProviderT\u001b[39m\u001b[39m\"\u001b[39m, Mapping[\u001b[39m\"\u001b[39m\u001b[39mCSTNode\u001b[39m\u001b[39m\"\u001b[39m, \u001b[39mobject\u001b[39m]]:\n\u001b[1;32m    186\u001b[0m \u001b[39m    \u001b[39m\u001b[39m\"\"\"\u001b[39;00m\n\u001b[1;32m    187\u001b[0m \u001b[39m    Returns a copy of the map of metadata mapping computed by each provider\u001b[39;00m\n\u001b[1;32m    188\u001b[0m \u001b[39m    in ``providers``.\u001b[39;00m\n\u001b[0;32m   (...)\u001b[0m\n\u001b[1;32m    191\u001b[0m \u001b[39m    dependencies that ``providers`` has.\u001b[39;00m\n\u001b[1;32m    192\u001b[0m \u001b[39m    \"\"\"\u001b[39;00m\n\u001b[0;32m--> 193\u001b[0m     _resolve_impl(\u001b[39mself\u001b[39;49m, providers)\n\u001b[1;32m    195\u001b[0m     \u001b[39m# Only return what what declared in providers\u001b[39;00m\n\u001b[1;32m    196\u001b[0m     \u001b[39mreturn\u001b[39;00m {k: \u001b[39mself\u001b[39m\u001b[39m.\u001b[39m_metadata[k] \u001b[39mfor\u001b[39;00m k \u001b[39min\u001b[39;00m providers}\n",
            "File \u001b[0;32m/usr/local/Caskroom/miniconda/base/envs/openbugger/lib/python3.8/site-packages/libcst/metadata/wrapper.py:77\u001b[0m, in \u001b[0;36m_resolve_impl\u001b[0;34m(wrapper, providers)\u001b[0m\n\u001b[1;32m     72\u001b[0m \u001b[39m\u001b[39m\u001b[39m\"\"\"\u001b[39;00m\n\u001b[1;32m     73\u001b[0m \u001b[39mUpdates the _metadata map on wrapper with metadata from the given providers\u001b[39;00m\n\u001b[1;32m     74\u001b[0m \u001b[39mas well as their dependencies.\u001b[39;00m\n\u001b[1;32m     75\u001b[0m \u001b[39m\"\"\"\u001b[39;00m\n\u001b[1;32m     76\u001b[0m completed \u001b[39m=\u001b[39m \u001b[39mset\u001b[39m(wrapper\u001b[39m.\u001b[39m_metadata\u001b[39m.\u001b[39mkeys())\n\u001b[0;32m---> 77\u001b[0m remaining \u001b[39m=\u001b[39m _gather_providers(\u001b[39mset\u001b[39;49m(providers), \u001b[39mset\u001b[39;49m()) \u001b[39m-\u001b[39m completed\n\u001b[1;32m     79\u001b[0m \u001b[39mwhile\u001b[39;00m \u001b[39mlen\u001b[39m(remaining) \u001b[39m>\u001b[39m \u001b[39m0\u001b[39m:\n\u001b[1;32m     80\u001b[0m     batchable \u001b[39m=\u001b[39m \u001b[39mset\u001b[39m()\n",
            "File \u001b[0;32m/usr/local/Caskroom/miniconda/base/envs/openbugger/lib/python3.8/site-packages/libcst/metadata/wrapper.py:65\u001b[0m, in \u001b[0;36m_gather_providers\u001b[0;34m(providers, gathered)\u001b[0m\n\u001b[1;32m     63\u001b[0m     \u001b[39mif\u001b[39;00m P \u001b[39mnot\u001b[39;00m \u001b[39min\u001b[39;00m gathered:\n\u001b[1;32m     64\u001b[0m         gathered\u001b[39m.\u001b[39madd(P)\n\u001b[0;32m---> 65\u001b[0m         _gather_providers(P\u001b[39m.\u001b[39;49mMETADATA_DEPENDENCIES, gathered)\n\u001b[1;32m     66\u001b[0m \u001b[39mreturn\u001b[39;00m gathered\n",
            "\u001b[0;31mAttributeError\u001b[0m: 'tuple' object has no attribute 'METADATA_DEPENDENCIES'"
          ]
        }
      ],
      "source": [
        "sequence_of_transforms_to_apply = (\n",
        "    \"x >= z and x == y\" ,\n",
        "    [transforms['==']['>='],\n",
        "     transforms['and']['or']],\n",
        "    \"x >= z or x >= y\" ,\n",
        ")\n",
        "\n",
        "# pre_wrapper = cst.MetadataWrapper(module)\n",
        "# change_equal_to_op1, _ = gen_transfomers(Equal, op1)\n",
        "# new_code = pre_wrapper.visit(change_equal_to_op1)\n",
        "# print(new_code.code)\n",
        "# print(op1.__name__, '--->', op2.__name__)\n",
        "# print('  :', code, )\n",
        "# print('->:',bugged.code, )\n",
        "# vanilla = wrapper.visit(reverse())\n",
        "# print('<-:', vanilla.code)\n",
        "# print( '---')\n",
        "\n",
        "code, TLIST, result =  sequence_of_transforms_to_apply\n",
        "\n",
        "module = cst.parse_module(code)\n",
        "wrapper = cst.MetadataWrapper(module)\n",
        "apply = composite_factory(TLIST)\n",
        "bugged = wrapper.visit(apply())\n",
        "apply"
      ]
    },
    {
      "cell_type": "code",
      "execution_count": 99,
      "metadata": {
        "colab": {
          "base_uri": "https://localhost:8080/",
          "height": 222
        },
        "id": "yuM5IE6uxafZ",
        "outputId": "2b45b03c-822d-43ca-e3c9-6e65bfaea9a5"
      },
      "outputs": [],
      "source": [
        "# printdiff(cst.parse_expression(\"1 == 2\").code, cst.parse_express('1 >= 2').code)"
      ]
    }
  ],
  "metadata": {
    "colab": {
      "provenance": []
    },
    "kernelspec": {
      "display_name": "openbugger",
      "language": "python",
      "name": "python3"
    },
    "language_info": {
      "codemirror_mode": {
        "name": "ipython",
        "version": 3
      },
      "file_extension": ".py",
      "mimetype": "text/x-python",
      "name": "python",
      "nbconvert_exporter": "python",
      "pygments_lexer": "ipython3",
      "version": "3.8.15"
    },
    "orig_nbformat": 4,
    "vscode": {
      "interpreter": {
        "hash": "ec4f840bde30d3dd3137c5d01abb30d30f6877a29b68cec62ee1a772f27de118"
      }
    }
  },
  "nbformat": 4,
  "nbformat_minor": 0
}
