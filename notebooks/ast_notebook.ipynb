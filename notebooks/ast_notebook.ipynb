{
 "cells": [
  {
   "cell_type": "code",
   "execution_count": 5,
   "metadata": {},
   "outputs": [],
   "source": [
    "import ast\n",
    "import astor\n",
    "class AstBug:\n",
    "    def __init__(self, name):\n",
    "        self.name = name\n",
    "        \n",
    "    def apply(self, ast):\n",
    "        raise NotImplementedError()\n",
    "\n",
    "class ComparisonOperatorTransformer(ast.NodeTransformer):\n",
    "    def __init__(self):\n",
    "        self.mapping = {\n",
    "            ast.Lt: ast.Gt,\n",
    "            ast.Gt: ast.Lt,\n",
    "            ast.LtE: ast.GtE,\n",
    "            ast.GtE: ast.LtE,\n",
    "            ast.Eq: ast.NotEq,\n",
    "            ast.NotEq: ast.Eq,\n",
    "        }\n",
    "\n",
    "    def visit_Compare(self, node):\n",
    "        for comparision in node.ops:\n",
    "            if type(comparision) in self.mapping:\n",
    "                node.ops[node.ops.index(comparision)] = self.mapping[type(comparision)]()\n",
    "        return node\n",
    "\n",
    "class IncorrectComparisonOperatorBug(AstBug):\n",
    "    def __init__(self):\n",
    "        super().__init__(\"incorrect_comparison_operator\")\n",
    "    \n",
    "    def apply(self, ast):\n",
    "        transformer = ComparisonOperatorTransformer()\n",
    "        transformer.visit(ast)\n",
    "        return ast"
   ]
  },
  {
   "cell_type": "code",
   "execution_count": 7,
   "metadata": {},
   "outputs": [
    {
     "name": "stdout",
     "output_type": "stream",
     "text": [
      "x = 5\n",
      "y = 10\n",
      "if x < y:\n",
      "    print('x is greater than y')\n",
      "else:\n",
      "    print('x is less than or equal to y')\n",
      "\n"
     ]
    }
   ],
   "source": [
    "#First step is to parse the script to an AST using the ast module\n",
    "script = \"\"\"\n",
    "x = 5\n",
    "y = 10\n",
    "if x > y:\n",
    "    print(\"x is greater than y\")\n",
    "else:\n",
    "    print(\"x is less than or equal to y\")\n",
    "\"\"\"\n",
    "ast_tree = ast.parse(script)\n",
    "\n",
    "# create an instance of the IncorrectComparisonOperatorBug\n",
    "bug = IncorrectComparisonOperatorBug()\n",
    "\n",
    "# apply the bug to the ast\n",
    "bugged_ast = bug.apply(ast_tree)\n",
    "\n",
    "# use the modified ast to generate the modified script\n",
    "modified_script = astor.to_source(bugged_ast)\n",
    "print(modified_script)\n"
   ]
  }
 ],
 "metadata": {
  "kernelspec": {
   "display_name": "Python 3",
   "language": "python",
   "name": "python3"
  },
  "language_info": {
   "codemirror_mode": {
    "name": "ipython",
    "version": 3
   },
   "file_extension": ".py",
   "mimetype": "text/x-python",
   "name": "python",
   "nbconvert_exporter": "python",
   "pygments_lexer": "ipython3",
   "version": "3.8.2"
  },
  "orig_nbformat": 4,
  "vscode": {
   "interpreter": {
    "hash": "31f2aee4e71d21fbe5cf8b01ff0e069b9275f58929596ceb00d14d90e3e16cd6"
   }
  }
 },
 "nbformat": 4,
 "nbformat_minor": 2
}
