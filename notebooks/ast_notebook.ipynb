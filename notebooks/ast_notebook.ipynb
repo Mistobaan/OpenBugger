{
 "cells": [
  {
   "cell_type": "code",
   "execution_count": 95,
   "metadata": {},
   "outputs": [],
   "source": [
    "import ast\n",
    "import astor\n",
    "import random\n"
   ]
  },
  {
   "cell_type": "code",
   "execution_count": 96,
   "metadata": {},
   "outputs": [],
   "source": [
    "\n",
    "class AstBug:\n",
    "    def __init__(self, name):\n",
    "        self.name = name\n",
    "        \n",
    "    def apply(self, ast):\n",
    "        raise NotImplementedError()\n",
    "\n",
    "class ComparisonOperatorTransformer(ast.NodeTransformer):\n",
    "    def __init__(self):\n",
    "        self.mapping = {\n",
    "            ast.Lt: ast.Gt,\n",
    "            ast.Gt: ast.Lt,\n",
    "            ast.LtE: ast.GtE,\n",
    "            ast.GtE: ast.LtE,\n",
    "            ast.Eq: ast.NotEq,\n",
    "            ast.NotEq: ast.Eq,\n",
    "        }\n",
    "        self.candidates = []\n",
    "        self.injected_bugs = []\n",
    "\n",
    "    def visit_Compare(self, node):\n",
    "        for comparision in node.ops:\n",
    "            if type(comparision) in self.mapping:\n",
    "                self.candidates.append(node)\n",
    "        return node\n",
    "\n",
    "    def add_injected_bug(self, line, col, original_op, injected_op):\n",
    "        self.injected_bugs.append({\n",
    "            'line': line,\n",
    "            'col': col,\n",
    "            'original_op': original_op,\n",
    "            'injected_op': injected_op\n",
    "        })\n",
    "\n",
    "    def apply_Compare(self, num_errors, random_state=None):\n",
    "        candidates = self.candidates\n",
    "        if len(candidates) == 0:\n",
    "            raise ValueError(\"No candidates found\")\n",
    "        if num_errors > len(candidates):\n",
    "            raise ValueError(f\"Number of errors is greater than number of candidates, errors:{num_errors}, candidates:{len(candidates)}\")\n",
    "        rng = random.Random(random_state)\n",
    "        rng.shuffle(candidates)\n",
    "        for i in range(num_errors):\n",
    "            node = candidates[i]\n",
    "            for comparision in node.ops:\n",
    "                if type(comparision) in self.mapping:\n",
    "                    original_op = type(comparision)\n",
    "                    node.ops[node.ops.index(comparision)] = self.mapping[original_op]()\n",
    "                    self.add_injected_bug(node.lineno, node.col_offset, original_op.__name__, self.mapping[original_op]().__class__.__name__)\n",
    "    \n",
    "\n",
    "\n",
    "class IncorrectComparisonOperatorBug(AstBug):\n",
    "    def __init__(self):\n",
    "        super().__init__(\"incorrect_comparison_operator\")\n",
    "    def apply(self, ast, num_errors=1):\n",
    "        transformer = ComparisonOperatorTransformer()\n",
    "        transformer.visit(ast)\n",
    "        transformer.apply_Compare(num_errors)\n",
    "        return ast , transformer.injected_bugs"
   ]
  },
  {
   "cell_type": "code",
   "execution_count": 97,
   "metadata": {},
   "outputs": [
    {
     "name": "stdout",
     "output_type": "stream",
     "text": [
      "x != 5\n",
      "y == 10\n",
      "if x < y:\n",
      "    print('x is greater than y')\n",
      "else:\n",
      "    print('x is less than or equal to y')\n",
      "\n",
      "[{'line': 2, 'col': 0, 'original_op': 'Eq', 'injected_op': 'NotEq'}, {'line': 4, 'col': 3, 'original_op': 'Gt', 'injected_op': 'Lt'}, {'line': 3, 'col': 0, 'original_op': 'NotEq', 'injected_op': 'Eq'}]\n"
     ]
    }
   ],
   "source": [
    "#First step is to parse the script to an AST using the ast module\n",
    "script = \"\"\"\n",
    "x == 5\n",
    "y != 10\n",
    "if x > y:\n",
    "    print(\"x is greater than y\")\n",
    "else:\n",
    "    print(\"x is less than or equal to y\")\n",
    "\"\"\"\n",
    "ast_tree = ast.parse(script)\n",
    "\n",
    "# create an instance of the IncorrectComparisonOperatorBug\n",
    "bug = IncorrectComparisonOperatorBug()\n",
    "\n",
    "# apply the bug to the ast\n",
    "bugged_ast , injected_bugs= bug.apply(ast_tree, num_errors=3)\n",
    "\n",
    "# use the modified ast to generate the modified script\n",
    "modified_script = astor.to_source(bugged_ast)\n",
    "print(modified_script)\n",
    "print(injected_bugs)"
   ]
  },
  {
   "attachments": {},
   "cell_type": "markdown",
   "metadata": {},
   "source": [
    "Todo: it would be nice to modify     def apply_Compare(self, num_errors, random_state=None): to take as input also a list of injected_bugs and use thos info to avoid bugging code that has alrady been bugged, I tried vanilla approach to just checking for the node position but modifying the code modify the location so some thoughts need to be put in"
   ]
  }
 ],
 "metadata": {
  "kernelspec": {
   "display_name": "Python 3",
   "language": "python",
   "name": "python3"
  },
  "language_info": {
   "codemirror_mode": {
    "name": "ipython",
    "version": 3
   },
   "file_extension": ".py",
   "mimetype": "text/x-python",
   "name": "python",
   "nbconvert_exporter": "python",
   "pygments_lexer": "ipython3",
   "version": "3.8.2"
  },
  "orig_nbformat": 4,
  "vscode": {
   "interpreter": {
    "hash": "31f2aee4e71d21fbe5cf8b01ff0e069b9275f58929596ceb00d14d90e3e16cd6"
   }
  }
 },
 "nbformat": 4,
 "nbformat_minor": 2
}
