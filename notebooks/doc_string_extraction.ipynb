{
 "cells": [
  {
   "cell_type": "code",
   "execution_count": 1,
   "metadata": {},
   "outputs": [],
   "source": [
    "import importlib\n",
    "import inspect\n",
    "\n",
    "import types\n"
   ]
  },
  {
   "cell_type": "code",
   "execution_count": 2,
   "metadata": {},
   "outputs": [],
   "source": [
    "class DocstringExtractor:\n",
    "    def __init__(self, module_name):\n",
    "        self.module_name = module_name\n",
    "        self.module = importlib.import_module(module_name)\n",
    "\n",
    "    \n",
    "    def remove_docstrings(self, source):\n",
    "        \"\"\"\n",
    "        Removes the docstrings from the source code\n",
    "        \"\"\"\n",
    "        in_docstring = False\n",
    "        lines = source.split(\"\\n\")\n",
    "        new_lines = []\n",
    "        for line in lines:\n",
    "            if line.strip().startswith(\"'''\") or line.strip().startswith('\"\"\"'):\n",
    "                in_docstring = not in_docstring\n",
    "            elif in_docstring:\n",
    "                continue\n",
    "            new_lines.append(line)\n",
    "        return \"\\n\".join(new_lines)\n",
    "\n",
    "\n",
    "\n",
    "\n",
    "\n",
    "\n",
    "\n",
    "    def extract_docstrings(self):\n",
    "        docstrings = {}\n",
    "        for name, obj in self.module.__dict__.items():\n",
    "            if inspect.isclass(obj):\n",
    "                for m_name, method in inspect.getmembers(obj, inspect.isfunction):\n",
    "                    if method.__doc__:\n",
    "                        if hasattr(method, '__module__'):\n",
    "                            try:\n",
    "                                raw_source = inspect.getsource(method)\n",
    "                                code = self.remove_docstrings(raw_source)\n",
    "                            except TypeError:\n",
    "                                raw_source = \"\"\n",
    "                                code = \"\"\n",
    "                            docstrings[f'{name}.{m_name}'] = (raw_source, code, method.__doc__)\n",
    "            elif callable(obj) and obj.__doc__:\n",
    "                if hasattr(obj, '__module__'):\n",
    "                    try:\n",
    "                        raw_source = inspect.getsource(obj)\n",
    "                        code = self.remove_docstrings(raw_source)\n",
    "                    except TypeError:\n",
    "                        raw_source = \"\"\n",
    "                        code = \"\"\n",
    "                    docstrings[name] = (raw_source, code, obj.__doc__)\n",
    "        return docstrings\n"
   ]
  },
  {
   "cell_type": "code",
   "execution_count": 3,
   "metadata": {},
   "outputs": [],
   "source": [
    "import numpy as np\n",
    "\n",
    "extractor = DocstringExtractor(\"numpy\")\n",
    "docstrings = extractor.extract_docstrings()"
   ]
  },
  {
   "cell_type": "code",
   "execution_count": 4,
   "metadata": {},
   "outputs": [
    {
     "data": {
      "text/plain": [
       "dict_keys(['show_config', 'memmap.flush', 'nested_iters', 'arange', 'array', 'asarray', 'asanyarray', 'ascontiguousarray', 'asfortranarray', 'zeros', 'count_nonzero', 'empty', 'fromstring', 'fromfile', 'frombuffer', 'from_dlpack', 'where', 'argwhere', 'copyto', 'concatenate', 'fastCopyAndTranspose', 'lexsort', 'set_numeric_ops', 'can_cast', 'promote_types', 'min_scalar_type', 'result_type', 'isfortran', 'empty_like', 'zeros_like', 'ones_like', 'correlate', 'convolve', 'inner', 'dot', 'outer', 'vdot', 'roll', 'rollaxis', 'moveaxis', 'cross', 'tensordot', 'fromiter', 'array_equal', 'array_equiv', 'indices', 'fromfunction', 'isclose', 'isscalar', 'binary_repr', 'base_repr', 'ones', 'identity', 'allclose', 'compare_chararrays', 'putmask', 'flatnonzero', 'full', 'full_like', 'shares_memory', 'may_share_memory', '_get_promotion_state', '_set_promotion_state', 'all', 'alltrue', 'amax', 'amin', 'any', 'argmax', 'argmin', 'argpartition', 'argsort', 'around', 'choose', 'clip', 'compress', 'cumprod', 'cumproduct', 'cumsum', 'diagonal', 'mean', 'ndim', 'nonzero', 'partition', 'prod', 'product', 'ptp', 'put', 'ravel', 'repeat', 'reshape', 'resize', 'round_', 'searchsorted', 'shape', 'size', 'sometrue', 'sort', 'squeeze', 'std', 'sum', 'swapaxes', 'take', 'trace', 'transpose', 'var', '_add_newdoc_ufunc', 'frompyfunc', 'geterrobj', 'seterrobj', 'obj2sctype', 'sctype2char', 'maximum_sctype', 'issctype', 'find_common_type', 'issubdtype', 'datetime_data', 'datetime_as_string', 'busday_offset', 'busday_count', 'is_busday', 'array2string', 'array_str', 'array_repr', 'set_string_function', 'set_printoptions', 'get_printoptions', 'printoptions', 'format_float_positional', 'format_float_scientific', 'require', 'seterr', 'geterr', 'setbufsize', 'getbufsize', 'seterrcall', 'geterrcall', 'errstate._recreate_cm', '_no_nep50_warning', 'record.pprint', 'format_parser._parseFormats', 'format_parser._setfieldnames', 'chararray.__add__', 'chararray.__eq__', 'chararray.__ge__', 'chararray.__gt__', 'chararray.__le__', 'chararray.__lt__', 'chararray.__mod__', 'chararray.__mul__', 'chararray.__ne__', 'chararray.__radd__', 'chararray.__rmul__', 'chararray.capitalize', 'chararray.center', 'chararray.count', 'chararray.decode', 'chararray.encode', 'chararray.endswith', 'chararray.expandtabs', 'chararray.find', 'chararray.index', 'chararray.isalnum', 'chararray.isalpha', 'chararray.isdecimal', 'chararray.isdigit', 'chararray.islower', 'chararray.isnumeric', 'chararray.isspace', 'chararray.istitle', 'chararray.isupper', 'chararray.join', 'chararray.ljust', 'chararray.lower', 'chararray.lstrip', 'chararray.partition', 'chararray.replace', 'chararray.rfind', 'chararray.rindex', 'chararray.rjust', 'chararray.rpartition', 'chararray.rsplit', 'chararray.rstrip', 'chararray.split', 'chararray.splitlines', 'chararray.startswith', 'chararray.strip', 'chararray.swapcase', 'chararray.title', 'chararray.translate', 'chararray.upper', 'chararray.zfill', 'logspace', 'linspace', 'geomspace', 'iinfo.__str__', 'atleast_1d', 'atleast_2d', 'atleast_3d', 'block', 'hstack', 'stack', 'vstack', 'einsum', 'einsum_path', 'iscomplexobj', 'isrealobj', 'imag', 'iscomplex', 'isreal', 'nan_to_num', 'real', 'real_if_close', 'typename', 'asfarray', 'mintypecode', 'common_type', 'ravel_multi_index', 'unravel_index', 'ix_', 'ndenumerate.__next__', 'ndindex.__next__', 'ndindex.ndincr', 'fill_diagonal', 'diag_indices', 'diag_indices_from', 'select', 'piecewise', 'trim_zeros', 'copy', 'iterable', 'percentile', 'diff', 'gradient', 'angle', 'unwrap', 'sort_complex', 'disp', 'flip', 'rot90', 'extract', 'place', 'vectorize.__call__', 'vectorize._get_ufunc_and_otypes', 'vectorize._vectorize_call', 'vectorize._vectorize_call_with_signature', 'asarray_chkfinite', 'average', 'bincount', 'digitize', 'cov', 'corrcoef', 'msort', 'median', 'sinc', 'hamming', 'hanning', 'bartlett', 'blackman', 'kaiser', 'trapz', 'i0', 'add_newdoc', 'add_docstring', 'meshgrid', 'delete', 'insert', 'append', 'interp', 'add_newdoc_ufunc', 'quantile', 'column_stack', 'row_stack', 'dstack', 'array_split', 'split', 'hsplit', 'vsplit', 'dsplit', 'apply_over_axes', 'expand_dims', 'apply_along_axis', 'kron', 'tile', 'get_array_wrap', 'take_along_axis', 'put_along_axis', 'broadcast_to', 'broadcast_arrays', 'broadcast_shapes', 'diag', 'diagflat', 'eye', 'fliplr', 'flipud', 'tri', 'triu', 'tril', 'vander', 'histogram2d', 'mask_indices', 'tril_indices', 'tril_indices_from', 'triu_indices', 'triu_indices_from', 'fix', 'isneginf', 'isposinf', 'pad', 'poly', 'roots', 'polyint', 'polyder', 'polyadd', 'polysub', 'polymul', 'polydiv', 'polyval', 'poly1d.deriv', 'poly1d.integ', 'polyfit', 'issubclass_', 'issubsctype', 'deprecate', 'deprecate_with_doc', 'get_include', 'info', 'source', 'who', 'lookfor', 'byte_bounds', 'safe_eval', 'show_runtime', 'ediff1d', 'intersect1d', 'setxor1d', 'union1d', 'setdiff1d', 'unique', 'in1d', 'isin', 'savetxt', 'loadtxt', 'genfromtxt', 'recfromtxt', 'recfromcsv', 'load', 'save', 'savez', 'savez_compressed', 'packbits', 'unpackbits', 'fromregex', 'DataSource.__init__', 'DataSource._cache', 'DataSource._findfile', 'DataSource._isurl', 'DataSource._iswritemode', 'DataSource._iszip', 'DataSource._possible_names', 'DataSource._sanitize_relative_path', 'DataSource._splitzipext', 'DataSource.abspath', 'DataSource.exists', 'DataSource.open', 'nansum', 'nanmax', 'nanmin', 'nanargmax', 'nanargmin', 'nanmean', 'nanmedian', 'nanpercentile', 'nanvar', 'nanstd', 'nanprod', 'nancumsum', 'nancumprod', 'nanquantile', 'histogram', 'histogramdd', 'histogram_bin_edges', 'matrix._align', 'matrix._collapse', 'matrix.all', 'matrix.any', 'matrix.argmax', 'matrix.argmin', 'matrix.flatten', 'matrix.getA', 'matrix.getA1', 'matrix.getH', 'matrix.getI', 'matrix.getT', 'matrix.max', 'matrix.mean', 'matrix.min', 'matrix.prod', 'matrix.ptp', 'matrix.ravel', 'matrix.squeeze', 'matrix.std', 'matrix.sum', 'matrix.tolist', 'matrix.var', 'bmat', 'mat', 'asmatrix', 'round', 'max', 'min', 'test'])"
      ]
     },
     "execution_count": 4,
     "metadata": {},
     "output_type": "execute_result"
    }
   ],
   "source": [
    "docstrings.keys()"
   ]
  },
  {
   "cell_type": "code",
   "execution_count": 5,
   "metadata": {},
   "outputs": [
    {
     "name": "stdout",
     "output_type": "stream",
     "text": [
      "@array_function_dispatch(_dispatcher, verify=False, module='numpy')\n",
      "@_fix_and_maybe_deprecate_out_named_y\n",
      "def isposinf(x, out=None):\n",
      "    \"\"\"\n",
      "    Test element-wise for positive infinity, return result as bool array.\n",
      "\n",
      "    Parameters\n",
      "    ----------\n",
      "    x : array_like\n",
      "        The input array.\n",
      "    out : array_like, optional\n",
      "        A location into which the result is stored. If provided, it must have a\n",
      "        shape that the input broadcasts to. If not provided or None, a\n",
      "        freshly-allocated boolean array is returned.\n",
      "\n",
      "    Returns\n",
      "    -------\n",
      "    out : ndarray\n",
      "        A boolean array with the same dimensions as the input.\n",
      "        If second argument is not supplied then a boolean array is returned\n",
      "        with values True where the corresponding element of the input is\n",
      "        positive infinity and values False where the element of the input is\n",
      "        not positive infinity.\n",
      "\n",
      "        If a second argument is supplied the result is stored there. If the\n",
      "        type of that array is a numeric type the result is represented as zeros\n",
      "        and ones, if the type is boolean then as False and True.\n",
      "        The return value `out` is then a reference to that array.\n",
      "\n",
      "    See Also\n",
      "    --------\n",
      "    isinf, isneginf, isfinite, isnan\n",
      "\n",
      "    Notes\n",
      "    -----\n",
      "    NumPy uses the IEEE Standard for Binary Floating-Point for Arithmetic\n",
      "    (IEEE 754).\n",
      "\n",
      "    Errors result if the second argument is also supplied when x is a scalar\n",
      "    input, if first and second arguments have different shapes, or if the\n",
      "    first argument has complex values\n",
      "\n",
      "    Examples\n",
      "    --------\n",
      "    >>> np.isposinf(np.PINF)\n",
      "    True\n",
      "    >>> np.isposinf(np.inf)\n",
      "    True\n",
      "    >>> np.isposinf(np.NINF)\n",
      "    False\n",
      "    >>> np.isposinf([-np.inf, 0., np.inf])\n",
      "    array([False, False,  True])\n",
      "\n",
      "    >>> x = np.array([-np.inf, 0., np.inf])\n",
      "    >>> y = np.array([2, 2, 2])\n",
      "    >>> np.isposinf(x, y)\n",
      "    array([0, 0, 1])\n",
      "    >>> y\n",
      "    array([0, 0, 1])\n",
      "\n",
      "    \"\"\"\n",
      "    is_inf = nx.isinf(x)\n",
      "    try:\n",
      "        signbit = ~nx.signbit(x)\n",
      "    except TypeError as e:\n",
      "        dtype = nx.asanyarray(x).dtype\n",
      "        raise TypeError(f'This operation is not supported for {dtype} values '\n",
      "                        'because it would be ambiguous.') from e\n",
      "    else:\n",
      "        return nx.logical_and(is_inf, signbit, out)\n",
      "\n"
     ]
    }
   ],
   "source": [
    "#Complete method\n",
    "print (docstrings['isposinf'][0])"
   ]
  },
  {
   "cell_type": "code",
   "execution_count": 6,
   "metadata": {},
   "outputs": [
    {
     "name": "stdout",
     "output_type": "stream",
     "text": [
      "@array_function_dispatch(_dispatcher, verify=False, module='numpy')\n",
      "@_fix_and_maybe_deprecate_out_named_y\n",
      "def isposinf(x, out=None):\n",
      "    \"\"\"\n",
      "    \"\"\"\n",
      "    is_inf = nx.isinf(x)\n",
      "    try:\n",
      "        signbit = ~nx.signbit(x)\n",
      "    except TypeError as e:\n",
      "        dtype = nx.asanyarray(x).dtype\n",
      "        raise TypeError(f'This operation is not supported for {dtype} values '\n",
      "                        'because it would be ambiguous.') from e\n",
      "    else:\n",
      "        return nx.logical_and(is_inf, signbit, out)\n",
      "\n"
     ]
    }
   ],
   "source": [
    "#only source code\n",
    "\n",
    "print (docstrings['isposinf'][1])"
   ]
  },
  {
   "cell_type": "code",
   "execution_count": 7,
   "metadata": {},
   "outputs": [
    {
     "name": "stdout",
     "output_type": "stream",
     "text": [
      "\n",
      "    Test element-wise for positive infinity, return result as bool array.\n",
      "\n",
      "    Parameters\n",
      "    ----------\n",
      "    x : array_like\n",
      "        The input array.\n",
      "    out : array_like, optional\n",
      "        A location into which the result is stored. If provided, it must have a\n",
      "        shape that the input broadcasts to. If not provided or None, a\n",
      "        freshly-allocated boolean array is returned.\n",
      "\n",
      "    Returns\n",
      "    -------\n",
      "    out : ndarray\n",
      "        A boolean array with the same dimensions as the input.\n",
      "        If second argument is not supplied then a boolean array is returned\n",
      "        with values True where the corresponding element of the input is\n",
      "        positive infinity and values False where the element of the input is\n",
      "        not positive infinity.\n",
      "\n",
      "        If a second argument is supplied the result is stored there. If the\n",
      "        type of that array is a numeric type the result is represented as zeros\n",
      "        and ones, if the type is boolean then as False and True.\n",
      "        The return value `out` is then a reference to that array.\n",
      "\n",
      "    See Also\n",
      "    --------\n",
      "    isinf, isneginf, isfinite, isnan\n",
      "\n",
      "    Notes\n",
      "    -----\n",
      "    NumPy uses the IEEE Standard for Binary Floating-Point for Arithmetic\n",
      "    (IEEE 754).\n",
      "\n",
      "    Errors result if the second argument is also supplied when x is a scalar\n",
      "    input, if first and second arguments have different shapes, or if the\n",
      "    first argument has complex values\n",
      "\n",
      "    Examples\n",
      "    --------\n",
      "    >>> np.isposinf(np.PINF)\n",
      "    True\n",
      "    >>> np.isposinf(np.inf)\n",
      "    True\n",
      "    >>> np.isposinf(np.NINF)\n",
      "    False\n",
      "    >>> np.isposinf([-np.inf, 0., np.inf])\n",
      "    array([False, False,  True])\n",
      "\n",
      "    >>> x = np.array([-np.inf, 0., np.inf])\n",
      "    >>> y = np.array([2, 2, 2])\n",
      "    >>> np.isposinf(x, y)\n",
      "    array([0, 0, 1])\n",
      "    >>> y\n",
      "    array([0, 0, 1])\n",
      "\n",
      "    \n"
     ]
    }
   ],
   "source": [
    "#only docstrings for functions\n",
    "\n",
    "print (docstrings['isposinf'][2])"
   ]
  }
 ],
 "metadata": {
  "kernelspec": {
   "display_name": "Python 3",
   "language": "python",
   "name": "python3"
  },
  "language_info": {
   "codemirror_mode": {
    "name": "ipython",
    "version": 3
   },
   "file_extension": ".py",
   "mimetype": "text/x-python",
   "name": "python",
   "nbconvert_exporter": "python",
   "pygments_lexer": "ipython3",
   "version": "3.10.6"
  },
  "orig_nbformat": 4,
  "vscode": {
   "interpreter": {
    "hash": "ceba285e8b4e6478fe8ad229bc63940a90ad5cf3d143521e7c38823a2e915b21"
   }
  }
 },
 "nbformat": 4,
 "nbformat_minor": 2
}
