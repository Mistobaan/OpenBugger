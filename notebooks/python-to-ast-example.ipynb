{
 "cells": [
  {
   "cell_type": "code",
   "execution_count": 1,
   "metadata": {},
   "outputs": [
    {
     "ename": "ModuleNotFoundError",
     "evalue": "No module named 'openbugger'",
     "output_type": "error",
     "traceback": [
      "\u001b[0;31m---------------------------------------------------------------------------\u001b[0m",
      "\u001b[0;31mModuleNotFoundError\u001b[0m                       Traceback (most recent call last)",
      "Cell \u001b[0;32mIn[1], line 1\u001b[0m\n\u001b[0;32m----> 1\u001b[0m \u001b[39mimport\u001b[39;00m \u001b[39mopenbugger\u001b[39;00m\n",
      "\u001b[0;31mModuleNotFoundError\u001b[0m: No module named 'openbugger'"
     ]
    }
   ],
   "source": [
    "import openbugger as ob"
   ]
  },
  {
   "cell_type": "code",
   "execution_count": null,
   "metadata": {},
   "outputs": [],
   "source": [
    "ob.parsing.python2ast('./test_fishing007.py')"
   ]
  },
  {
   "cell_type": "code",
   "execution_count": 12,
   "metadata": {},
   "outputs": [],
   "source": [
    "import io, tokenize\n",
    "\n",
    "def remove_comments_and_docstrings(source):\n",
    "    \"\"\"\n",
    "    Returns 'source' minus comments and docstrings.\n",
    "    \"\"\"\n",
    "    io_obj = io.StringIO(source)\n",
    "    out = \"\"\n",
    "    prev_token_type = tokenize.INDENT\n",
    "    last_lineno = -1\n",
    "    last_col = 0\n",
    "    for tok in tokenize.generate_tokens(io_obj.readline):\n",
    "        # tok is TokenInfo object\n",
    "        token_type = tok[0]\n",
    "        token_string = tok[1]\n",
    "        start_line, start_col = tok[2]\n",
    "        end_line, end_col = tok[3]\n",
    "        ltext = tok[4]\n",
    "        # The following two conditionals preserve indentation.\n",
    "        # This is necessary because we're not using tokenize.untokenize()\n",
    "        # (because it spits out code with copious amounts of oddly-placed\n",
    "        # whitespace).\n",
    "        if start_line > last_lineno:\n",
    "            last_col = 0\n",
    "        if start_col > last_col:\n",
    "            out += (\" \" * (start_col - last_col))\n",
    "        # Remove comments:\n",
    "        if token_type == tokenize.COMMENT:\n",
    "            pass\n",
    "        # This series of conditionals removes docstrings:\n",
    "        elif token_type == tokenize.STRING:\n",
    "            if prev_token_type != tokenize.INDENT:\n",
    "        # This is likely a docstring; double-check we're not inside an operator:\n",
    "                if prev_token_type != tokenize.NEWLINE:\n",
    "                    # Note regarding NEWLINE vs NL: The tokenize module\n",
    "                    # differentiates between newlines that start a new statement\n",
    "                    # and newlines inside of operators such as parens, brackes,\n",
    "                    # and curly braces.  Newlines inside of operators are\n",
    "                    # NEWLINE and newlines that start new code are NL.\n",
    "                    # Catch whole-module docstrings:\n",
    "                    if start_col > 0:\n",
    "                        # Unlabelled indentation means we're inside an operator\n",
    "                        out += token_string\n",
    "                    # Note regarding the INDENT token: The tokenize module does\n",
    "                    # not label indentation inside of an operator (parens,\n",
    "                    # brackets, and curly braces) as actual indentation.\n",
    "                    # For example:\n",
    "                    # def foo():\n",
    "                    #     \"The spaces before this docstring are tokenize.INDENT\"\n",
    "                    #     test = [\n",
    "                    #         \"The spaces before this string do not get a token\"\n",
    "                    #     ]\n",
    "        else:\n",
    "            out += token_string\n",
    "        prev_token_type = token_type\n",
    "        last_col = end_col\n",
    "        last_lineno = end_line\n",
    "    return out\n"
   ]
  },
  {
   "cell_type": "code",
   "execution_count": 13,
   "metadata": {},
   "outputs": [
    {
     "data": {
      "text/plain": [
       "\"\\nprint('Hello, world!')''\""
      ]
     },
     "execution_count": 13,
     "metadata": {},
     "output_type": "execute_result"
    }
   ],
   "source": [
    "remove_comments_and_docstrings(source=\"'''\\nThis is a docstring.\\n'''\\nprint('Hello, world!')''\")"
   ]
  },
  {
   "cell_type": "code",
   "execution_count": null,
   "metadata": {},
   "outputs": [],
   "source": [
    "from openai.embeddings_utils import get_embedding\n",
    "\n",
    "df = pd.DataFrame(all_funcs)\n",
    "df['code_embedding'] = df['code'].apply(lambda x: get_embedding(x, engine='text-embedding-ada-002'))\n",
    "df['filepath'] = df['filepath'].apply(lambda x: x.replace(code_root, \"\"))\n",
    "df.to_csv(\"data/code_search_openai-python.csv\", index=False)\n",
    "df.head()"
   ]
  }
 ],
 "metadata": {
  "kernelspec": {
   "display_name": "openbugger",
   "language": "python",
   "name": "python3"
  },
  "language_info": {
   "codemirror_mode": {
    "name": "ipython",
    "version": 3
   },
   "file_extension": ".py",
   "mimetype": "text/x-python",
   "name": "python",
   "nbconvert_exporter": "python",
   "pygments_lexer": "ipython3",
   "version": "3.8.15"
  },
  "orig_nbformat": 4,
  "vscode": {
   "interpreter": {
    "hash": "ec4f840bde30d3dd3137c5d01abb30d30f6877a29b68cec62ee1a772f27de118"
   }
  }
 },
 "nbformat": 4,
 "nbformat_minor": 2
}
